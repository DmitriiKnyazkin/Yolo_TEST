{
  "nbformat": 4,
  "nbformat_minor": 0,
  "metadata": {
    "colab": {
      "provenance": [],
      "authorship_tag": "ABX9TyM6I4WyzfpQaVqX6M0Pq24w",
      "include_colab_link": true
    },
    "kernelspec": {
      "name": "python3",
      "display_name": "Python 3"
    },
    "language_info": {
      "name": "python"
    }
  },
  "cells": [
    {
      "cell_type": "markdown",
      "metadata": {
        "id": "view-in-github",
        "colab_type": "text"
      },
      "source": [
        "<a href=\"https://colab.research.google.com/github/DmitriiKnyazkin/Yolo_TEST/blob/master/MP_ver_3.ipynb\" target=\"_parent\"><img src=\"https://colab.research.google.com/assets/colab-badge.svg\" alt=\"Open In Colab\"/></a>"
      ]
    },
    {
      "cell_type": "code",
      "execution_count": null,
      "metadata": {
        "id": "k0Em3OjU9C2Q"
      },
      "outputs": [],
      "source": [
        "!pip install mediapipe\n",
        "!wget -O face_landmarker_v2_with_blendshapes.task -q https://storage.googleapis.com/mediapipe-models/face_landmarker/face_landmarker/float16/1/face_landmarker.task\n",
        ""
      ]
    },
    {
      "cell_type": "code",
      "source": [
        "import cv2\n",
        "import numpy as np\n",
        "import mediapipe as mp\n",
        "from mediapipe.tasks import python\n",
        "from mediapipe.tasks.python import vision\n",
        "from mediapipe import solutions\n",
        "from mediapipe.framework.formats import landmark_pb2\n",
        "from google.colab.patches import cv2_imshow"
      ],
      "metadata": {
        "id": "HhTczbYr9Pds"
      },
      "execution_count": 2,
      "outputs": []
    },
    {
      "cell_type": "code",
      "source": [
        "base_options = python.BaseOptions(model_asset_path='face_landmarker_v2_with_blendshapes.task')\n",
        "options = vision.FaceLandmarkerOptions(base_options=base_options,\n",
        "                                       output_face_blendshapes=True,\n",
        "                                       output_facial_transformation_matrixes=True,\n",
        "                                       num_faces=1)\n",
        "detector = vision.FaceLandmarker.create_from_options(options)"
      ],
      "metadata": {
        "id": "u-kkjFHHxdhO"
      },
      "execution_count": 5,
      "outputs": []
    },
    {
      "cell_type": "code",
      "source": [
        "cap = cv2.VideoCapture('/content/video_in.mp4')\n",
        "imageWidth = cap.get(3)# Разрешение входного файла, ширина\n",
        "imageHeight = cap.get(4)# Разрешение входного файла, высота\n",
        "fps = cap.get(cv2.CAP_PROP_FPS)  # Частота входного файла, FPS\n",
        "len_freame = int(cap.get(7)+1) # Длина выходного файла, кадры\n",
        "output_width = 640 # Разрешение выходного файла, ширина\n",
        "output_height = 480 # Разрешение выходного файла, высота\n",
        "\n",
        "writer = cv2.VideoWriter(\"/content/video_out.avi\", cv2.VideoWriter_fourcc(*\"XVID\"), fps, (output_width, output_height))\n",
        "\n",
        "for i in range(len_freame):\n",
        "  cap.set(cv2.CAP_PROP_POS_FRAMES, i-1)\n",
        "  res, frame = cap.read()\n",
        "  mp_image = mp.Image(image_format=mp.ImageFormat.SRGB, data=frame)\n",
        "  detection_result = detector.detect(mp_image)\n",
        "  detection_result.face_landmarks[0][6].y\n",
        "  detection_result.face_landmarks[0][6].x\n",
        "  #Высчитываем координаты кадра относительно ценра глаз (точка 6)\n",
        "  y_zenter = detection_result.face_landmarks[0][6].y * imageHeight\n",
        "  x_zenter = detection_result.face_landmarks[0][6].x * imageWidth\n",
        "  y_0 = int(y_zenter - output_height/2)\n",
        "  y_1 = y_0 + output_height\n",
        "  x_0 = int(x_zenter - output_width/2)\n",
        "  x_1 = x_0 + output_width\n",
        "  frame_cut_out = frame[y_0:y_1, x_0:x_1]\n",
        "  writer.write(frame_cut_out)\n",
        "\n",
        "writer.release()"
      ],
      "metadata": {
        "id": "n0LCcb6t-M_E"
      },
      "execution_count": 6,
      "outputs": []
    }
  ]
}