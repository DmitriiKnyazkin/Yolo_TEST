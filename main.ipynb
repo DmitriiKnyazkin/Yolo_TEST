{
  "cells": [
    {
      "cell_type": "markdown",
      "metadata": {
        "id": "pJ7VZ3fcaFuz"
      },
      "source": [
        "### Проверяем выбран ли у нас GPU"
      ]
    },
    {
      "cell_type": "code",
      "execution_count": null,
      "metadata": {
        "id": "-TWkF2TATk6M"
      },
      "outputs": [],
      "source": [
        "!nvcc --version"
      ]
    },
    {
      "cell_type": "code",
      "execution_count": null,
      "metadata": {
        "id": "mn20kFFMUkiN"
      },
      "outputs": [],
      "source": [
        "!nvidia-smi"
      ]
    },
    {
      "cell_type": "markdown",
      "metadata": {
        "id": "esNHjasiBYz1"
      },
      "source": [
        "### Удаляем ненужную папку sample_data"
      ]
    },
    {
      "cell_type": "code",
      "execution_count": null,
      "metadata": {
        "id": "KsdiZlpSAyJz"
      },
      "outputs": [],
      "source": [
        "!rm -rf ./sample_data"
      ]
    },
    {
      "cell_type": "markdown",
      "metadata": {
        "id": "KbmjQ-ADAqwv"
      },
      "source": [
        "### Устанавливаем утилиты"
      ]
    },
    {
      "cell_type": "markdown",
      "metadata": {
        "id": "2GEoQNkMBrJZ"
      },
      "source": [
        "Клонируем репозиторий и меняем в файле general_json2yolo.py меняем 274 строчку на <br>h, w, f = img['height'], img['width'], img['file_name'].split('/')[1]</br>"
      ]
    },
    {
      "cell_type": "markdown",
      "metadata": {
        "id": "yP4qP9a_H2so"
      },
      "source": [
        "В файлах general_json2yolo.py и labelbox_json2yolo.py, добавьте в перед каждым utils точку, чтобы было так <br>from .utils import ..."
      ]
    },
    {
      "cell_type": "code",
      "execution_count": 14,
      "metadata": {
        "id": "Mw1E5QqXAb2D",
        "colab": {
          "base_uri": "https://localhost:8080/"
        },
        "outputId": "54ce40a0-4de2-4e66-996d-9314a011f5d2"
      },
      "outputs": [
        {
          "output_type": "stream",
          "name": "stdout",
          "text": [
            "fatal: destination path 'JSON2YOLO' already exists and is not an empty directory.\n"
          ]
        }
      ],
      "source": [
        "!git clone https://github.com/ultralytics/JSON2YOLO"
      ]
    },
    {
      "cell_type": "markdown",
      "metadata": {
        "id": "UgUbvpcoCVAj"
      },
      "source": [
        "### Устанавливаем библиотеки"
      ]
    },
    {
      "cell_type": "code",
      "execution_count": 15,
      "metadata": {
        "id": "LGY29RUOCPX5",
        "colab": {
          "base_uri": "https://localhost:8080/"
        },
        "outputId": "8bfccee8-e3f8-4f4e-f31a-7f923eaea24f"
      },
      "outputs": [
        {
          "output_type": "stream",
          "name": "stdout",
          "text": [
            "Requirement already satisfied: numpy in /usr/local/lib/python3.10/dist-packages (from -r /content/JSON2YOLO/requirements.txt (line 3)) (1.26.4)\n",
            "Requirement already satisfied: opencv-python>=4.1.2 in /usr/local/lib/python3.10/dist-packages (from -r /content/JSON2YOLO/requirements.txt (line 4)) (4.10.0.84)\n",
            "Requirement already satisfied: pandas in /usr/local/lib/python3.10/dist-packages (from -r /content/JSON2YOLO/requirements.txt (line 5)) (2.1.4)\n",
            "Requirement already satisfied: Pillow in /usr/local/lib/python3.10/dist-packages (from -r /content/JSON2YOLO/requirements.txt (line 6)) (9.4.0)\n",
            "Requirement already satisfied: pyYAML in /usr/local/lib/python3.10/dist-packages (from -r /content/JSON2YOLO/requirements.txt (line 7)) (6.0.2)\n",
            "Requirement already satisfied: requests in /usr/local/lib/python3.10/dist-packages (from -r /content/JSON2YOLO/requirements.txt (line 8)) (2.32.3)\n",
            "Requirement already satisfied: tqdm in /usr/local/lib/python3.10/dist-packages (from -r /content/JSON2YOLO/requirements.txt (line 9)) (4.66.5)\n",
            "Requirement already satisfied: python-dateutil>=2.8.2 in /usr/local/lib/python3.10/dist-packages (from pandas->-r /content/JSON2YOLO/requirements.txt (line 5)) (2.8.2)\n",
            "Requirement already satisfied: pytz>=2020.1 in /usr/local/lib/python3.10/dist-packages (from pandas->-r /content/JSON2YOLO/requirements.txt (line 5)) (2024.1)\n",
            "Requirement already satisfied: tzdata>=2022.1 in /usr/local/lib/python3.10/dist-packages (from pandas->-r /content/JSON2YOLO/requirements.txt (line 5)) (2024.1)\n",
            "Requirement already satisfied: charset-normalizer<4,>=2 in /usr/local/lib/python3.10/dist-packages (from requests->-r /content/JSON2YOLO/requirements.txt (line 8)) (3.3.2)\n",
            "Requirement already satisfied: idna<4,>=2.5 in /usr/local/lib/python3.10/dist-packages (from requests->-r /content/JSON2YOLO/requirements.txt (line 8)) (3.8)\n",
            "Requirement already satisfied: urllib3<3,>=1.21.1 in /usr/local/lib/python3.10/dist-packages (from requests->-r /content/JSON2YOLO/requirements.txt (line 8)) (2.0.7)\n",
            "Requirement already satisfied: certifi>=2017.4.17 in /usr/local/lib/python3.10/dist-packages (from requests->-r /content/JSON2YOLO/requirements.txt (line 8)) (2024.7.4)\n",
            "Requirement already satisfied: six>=1.5 in /usr/local/lib/python3.10/dist-packages (from python-dateutil>=2.8.2->pandas->-r /content/JSON2YOLO/requirements.txt (line 5)) (1.16.0)\n"
          ]
        }
      ],
      "source": [
        "%pip install -r /content/JSON2YOLO/requirements.txt"
      ]
    },
    {
      "cell_type": "code",
      "source": [
        "%pip install -r /content/requirementsYOLO.txt"
      ],
      "metadata": {
        "id": "-AW6puUXGF0C",
        "outputId": "68361b53-f9a6-487c-f1ca-3eacb309aa8e",
        "colab": {
          "base_uri": "https://localhost:8080/"
        }
      },
      "execution_count": 16,
      "outputs": [
        {
          "output_type": "stream",
          "name": "stdout",
          "text": [
            "Requirement already satisfied: opencv-python in /usr/local/lib/python3.10/dist-packages (from -r /content/requirementsYOLO.txt (line 4)) (4.10.0.84)\n",
            "Requirement already satisfied: supervision in /usr/local/lib/python3.10/dist-packages (from -r /content/requirementsYOLO.txt (line 5)) (0.23.0)\n",
            "Requirement already satisfied: pathlib in /usr/local/lib/python3.10/dist-packages (from -r /content/requirementsYOLO.txt (line 6)) (1.0.1)\n",
            "Requirement already satisfied: ultralytics in /usr/local/lib/python3.10/dist-packages (from -r /content/requirementsYOLO.txt (line 7)) (8.2.87)\n",
            "Requirement already satisfied: numpy>=1.21.2 in /usr/local/lib/python3.10/dist-packages (from opencv-python->-r /content/requirementsYOLO.txt (line 4)) (1.26.4)\n",
            "Requirement already satisfied: defusedxml<0.8.0,>=0.7.1 in /usr/local/lib/python3.10/dist-packages (from supervision->-r /content/requirementsYOLO.txt (line 5)) (0.7.1)\n",
            "Requirement already satisfied: matplotlib>=3.6.0 in /usr/local/lib/python3.10/dist-packages (from supervision->-r /content/requirementsYOLO.txt (line 5)) (3.7.1)\n",
            "Requirement already satisfied: opencv-python-headless>=4.5.5.64 in /usr/local/lib/python3.10/dist-packages (from supervision->-r /content/requirementsYOLO.txt (line 5)) (4.10.0.84)\n",
            "Requirement already satisfied: pillow>=9.4 in /usr/local/lib/python3.10/dist-packages (from supervision->-r /content/requirementsYOLO.txt (line 5)) (9.4.0)\n",
            "Requirement already satisfied: pyyaml>=5.3 in /usr/local/lib/python3.10/dist-packages (from supervision->-r /content/requirementsYOLO.txt (line 5)) (6.0.2)\n",
            "Requirement already satisfied: scipy<2.0.0,>=1.10.0 in /usr/local/lib/python3.10/dist-packages (from supervision->-r /content/requirementsYOLO.txt (line 5)) (1.13.1)\n",
            "Requirement already satisfied: requests>=2.23.0 in /usr/local/lib/python3.10/dist-packages (from ultralytics->-r /content/requirementsYOLO.txt (line 7)) (2.32.3)\n",
            "Requirement already satisfied: torch>=1.8.0 in /usr/local/lib/python3.10/dist-packages (from ultralytics->-r /content/requirementsYOLO.txt (line 7)) (2.4.0+cu121)\n",
            "Requirement already satisfied: torchvision>=0.9.0 in /usr/local/lib/python3.10/dist-packages (from ultralytics->-r /content/requirementsYOLO.txt (line 7)) (0.19.0+cu121)\n",
            "Requirement already satisfied: tqdm>=4.64.0 in /usr/local/lib/python3.10/dist-packages (from ultralytics->-r /content/requirementsYOLO.txt (line 7)) (4.66.5)\n",
            "Requirement already satisfied: psutil in /usr/local/lib/python3.10/dist-packages (from ultralytics->-r /content/requirementsYOLO.txt (line 7)) (5.9.5)\n",
            "Requirement already satisfied: py-cpuinfo in /usr/local/lib/python3.10/dist-packages (from ultralytics->-r /content/requirementsYOLO.txt (line 7)) (9.0.0)\n",
            "Requirement already satisfied: pandas>=1.1.4 in /usr/local/lib/python3.10/dist-packages (from ultralytics->-r /content/requirementsYOLO.txt (line 7)) (2.1.4)\n",
            "Requirement already satisfied: seaborn>=0.11.0 in /usr/local/lib/python3.10/dist-packages (from ultralytics->-r /content/requirementsYOLO.txt (line 7)) (0.13.1)\n",
            "Requirement already satisfied: ultralytics-thop>=2.0.0 in /usr/local/lib/python3.10/dist-packages (from ultralytics->-r /content/requirementsYOLO.txt (line 7)) (2.0.6)\n",
            "Requirement already satisfied: contourpy>=1.0.1 in /usr/local/lib/python3.10/dist-packages (from matplotlib>=3.6.0->supervision->-r /content/requirementsYOLO.txt (line 5)) (1.3.0)\n",
            "Requirement already satisfied: cycler>=0.10 in /usr/local/lib/python3.10/dist-packages (from matplotlib>=3.6.0->supervision->-r /content/requirementsYOLO.txt (line 5)) (0.12.1)\n",
            "Requirement already satisfied: fonttools>=4.22.0 in /usr/local/lib/python3.10/dist-packages (from matplotlib>=3.6.0->supervision->-r /content/requirementsYOLO.txt (line 5)) (4.53.1)\n",
            "Requirement already satisfied: kiwisolver>=1.0.1 in /usr/local/lib/python3.10/dist-packages (from matplotlib>=3.6.0->supervision->-r /content/requirementsYOLO.txt (line 5)) (1.4.5)\n",
            "Requirement already satisfied: packaging>=20.0 in /usr/local/lib/python3.10/dist-packages (from matplotlib>=3.6.0->supervision->-r /content/requirementsYOLO.txt (line 5)) (24.1)\n",
            "Requirement already satisfied: pyparsing>=2.3.1 in /usr/local/lib/python3.10/dist-packages (from matplotlib>=3.6.0->supervision->-r /content/requirementsYOLO.txt (line 5)) (3.1.4)\n",
            "Requirement already satisfied: python-dateutil>=2.7 in /usr/local/lib/python3.10/dist-packages (from matplotlib>=3.6.0->supervision->-r /content/requirementsYOLO.txt (line 5)) (2.8.2)\n",
            "Requirement already satisfied: pytz>=2020.1 in /usr/local/lib/python3.10/dist-packages (from pandas>=1.1.4->ultralytics->-r /content/requirementsYOLO.txt (line 7)) (2024.1)\n",
            "Requirement already satisfied: tzdata>=2022.1 in /usr/local/lib/python3.10/dist-packages (from pandas>=1.1.4->ultralytics->-r /content/requirementsYOLO.txt (line 7)) (2024.1)\n",
            "Requirement already satisfied: charset-normalizer<4,>=2 in /usr/local/lib/python3.10/dist-packages (from requests>=2.23.0->ultralytics->-r /content/requirementsYOLO.txt (line 7)) (3.3.2)\n",
            "Requirement already satisfied: idna<4,>=2.5 in /usr/local/lib/python3.10/dist-packages (from requests>=2.23.0->ultralytics->-r /content/requirementsYOLO.txt (line 7)) (3.8)\n",
            "Requirement already satisfied: urllib3<3,>=1.21.1 in /usr/local/lib/python3.10/dist-packages (from requests>=2.23.0->ultralytics->-r /content/requirementsYOLO.txt (line 7)) (2.0.7)\n",
            "Requirement already satisfied: certifi>=2017.4.17 in /usr/local/lib/python3.10/dist-packages (from requests>=2.23.0->ultralytics->-r /content/requirementsYOLO.txt (line 7)) (2024.7.4)\n",
            "Requirement already satisfied: filelock in /usr/local/lib/python3.10/dist-packages (from torch>=1.8.0->ultralytics->-r /content/requirementsYOLO.txt (line 7)) (3.15.4)\n",
            "Requirement already satisfied: typing-extensions>=4.8.0 in /usr/local/lib/python3.10/dist-packages (from torch>=1.8.0->ultralytics->-r /content/requirementsYOLO.txt (line 7)) (4.12.2)\n",
            "Requirement already satisfied: sympy in /usr/local/lib/python3.10/dist-packages (from torch>=1.8.0->ultralytics->-r /content/requirementsYOLO.txt (line 7)) (1.13.2)\n",
            "Requirement already satisfied: networkx in /usr/local/lib/python3.10/dist-packages (from torch>=1.8.0->ultralytics->-r /content/requirementsYOLO.txt (line 7)) (3.3)\n",
            "Requirement already satisfied: jinja2 in /usr/local/lib/python3.10/dist-packages (from torch>=1.8.0->ultralytics->-r /content/requirementsYOLO.txt (line 7)) (3.1.4)\n",
            "Requirement already satisfied: fsspec in /usr/local/lib/python3.10/dist-packages (from torch>=1.8.0->ultralytics->-r /content/requirementsYOLO.txt (line 7)) (2024.6.1)\n",
            "Requirement already satisfied: six>=1.5 in /usr/local/lib/python3.10/dist-packages (from python-dateutil>=2.7->matplotlib>=3.6.0->supervision->-r /content/requirementsYOLO.txt (line 5)) (1.16.0)\n",
            "Requirement already satisfied: MarkupSafe>=2.0 in /usr/local/lib/python3.10/dist-packages (from jinja2->torch>=1.8.0->ultralytics->-r /content/requirementsYOLO.txt (line 7)) (2.1.5)\n",
            "Requirement already satisfied: mpmath<1.4,>=1.1.0 in /usr/local/lib/python3.10/dist-packages (from sympy->torch>=1.8.0->ultralytics->-r /content/requirementsYOLO.txt (line 7)) (1.3.0)\n"
          ]
        }
      ]
    },
    {
      "cell_type": "code",
      "source": [
        "from pathlib import Path\n",
        "import supervision as spv\n",
        "import cv2\n",
        "from ultralytics import YOLO"
      ],
      "metadata": {
        "id": "nGFVMzEZGFpp"
      },
      "execution_count": 17,
      "outputs": []
    },
    {
      "cell_type": "code",
      "source": [
        "def annotate_frame(image, detections, box_annotator, label_annotator, class_names_dict):\n",
        "    \"\"\"\n",
        "    Annotate the bounding box with class name and confidence\n",
        "    :param image: input image\n",
        "    :param detections: YOLO detections object\n",
        "    :param box_annotator: supervision bounding box annotator\n",
        "    :param label_annotator: supervision bounding box annotator\n",
        "    :param class_names_dict: dictionary with model's class names {class_id: class_name, ...}\n",
        "    :return: annotated image\n",
        "    \"\"\"\n",
        "    labels = [\n",
        "        \"{} {:0.2f}\".format(class_names_dict[class_id], confidence)\n",
        "        for _, _, confidence, class_id, _, _\n",
        "        in detections\n",
        "    ]\n",
        "    image = box_annotator.annotate(scene=image, detections=detections)\n",
        "    image = label_annotator.annotate(scene=image, detections=detections, labels=labels)\n",
        "    return image"
      ],
      "metadata": {
        "id": "VEI1OF6mGFg5"
      },
      "execution_count": 18,
      "outputs": []
    },
    {
      "cell_type": "code",
      "source": [
        "try:\n",
        "    print(\"Loading the model\")\n",
        "    #path_model = Path('/content/1280_100.pt')\n",
        "    path_model = Path('/content/1280_150.pt')\n",
        "\n",
        "    model = YOLO(path_model)\n",
        "    print(\"Loading is done\")\n",
        "except FileNotFoundError:\n",
        "    print(\"ERROR: Could not load the YOLO model\")\n",
        "    exit()\n",
        "\n",
        "# This will draw the detections\n",
        "class_colors = spv.ColorPalette.from_hex(['#ffff66', '#66ffcc', '#ff99ff', '#ffcc99'])\n",
        "class_names_dict = model.model.names\n",
        "# bbox_annotator = spv.BoundingBoxAnnotator(thickness=2, color=class_colors)\n",
        "bbox_annotator = spv.BoxAnnotator(thickness=2, color=class_colors) #BoundingAnnotator BoxAnnotator\n",
        "label_annotator = spv.LabelAnnotator(color=class_colors, text_color=spv.Color.from_hex(\"#000000\"))\n",
        "\n",
        "# Reading frames from the webcam\n",
        "cap = cv2.VideoCapture(0)\n",
        "\n",
        "# Read from camera and run the YOLO model on each frame\n",
        "while True:\n",
        "    frame_ok, frame = cap.read()\n",
        "\n",
        "    if frame_ok:\n",
        "        result = model(frame, agnostic_nms=True, verbose=False)[0]\n",
        "        detections = spv.Detections.from_ultralytics(result)\n",
        "        frame = annotate_frame(frame, detections, bbox_annotator, label_annotator, class_names_dict)\n",
        "        cv2.imshow(\"Face parts\", frame)\n",
        "        k = cv2.waitKey(1)\n",
        "\n",
        "        if k == ord(\"q\"):\n",
        "            break\n",
        "\n",
        "cv2.destroyAllWindows()\n",
        "cap.release()"
      ],
      "metadata": {
        "id": "zU9x-vEDGFX6",
        "outputId": "5b68e9f5-4230-469b-88d9-1c928a289c11",
        "colab": {
          "base_uri": "https://localhost:8080/",
          "height": 245
        }
      },
      "execution_count": 20,
      "outputs": [
        {
          "output_type": "stream",
          "name": "stdout",
          "text": [
            "Loading the model\n",
            "Loading is done\n"
          ]
        },
        {
          "output_type": "error",
          "ename": "KeyboardInterrupt",
          "evalue": "",
          "traceback": [
            "\u001b[0;31m---------------------------------------------------------------------------\u001b[0m",
            "\u001b[0;31mKeyboardInterrupt\u001b[0m                         Traceback (most recent call last)",
            "\u001b[0;32m<ipython-input-20-e73f08915db1>\u001b[0m in \u001b[0;36m<cell line: 23>\u001b[0;34m()\u001b[0m\n\u001b[1;32m     22\u001b[0m \u001b[0;31m# Read from camera and run the YOLO model on each frame\u001b[0m\u001b[0;34m\u001b[0m\u001b[0;34m\u001b[0m\u001b[0m\n\u001b[1;32m     23\u001b[0m \u001b[0;32mwhile\u001b[0m \u001b[0;32mTrue\u001b[0m\u001b[0;34m:\u001b[0m\u001b[0;34m\u001b[0m\u001b[0;34m\u001b[0m\u001b[0m\n\u001b[0;32m---> 24\u001b[0;31m     \u001b[0mframe_ok\u001b[0m\u001b[0;34m,\u001b[0m \u001b[0mframe\u001b[0m \u001b[0;34m=\u001b[0m \u001b[0mcap\u001b[0m\u001b[0;34m.\u001b[0m\u001b[0mread\u001b[0m\u001b[0;34m(\u001b[0m\u001b[0;34m)\u001b[0m\u001b[0;34m\u001b[0m\u001b[0;34m\u001b[0m\u001b[0m\n\u001b[0m\u001b[1;32m     25\u001b[0m \u001b[0;34m\u001b[0m\u001b[0m\n\u001b[1;32m     26\u001b[0m     \u001b[0;32mif\u001b[0m \u001b[0mframe_ok\u001b[0m\u001b[0;34m:\u001b[0m\u001b[0;34m\u001b[0m\u001b[0;34m\u001b[0m\u001b[0m\n",
            "\u001b[0;31mKeyboardInterrupt\u001b[0m: "
          ]
        }
      ]
    },
    {
      "cell_type": "code",
      "source": [
        "from IPython.display import display, Javascript\n",
        "from google.colab.output import eval_js\n",
        "from base64 import b64decode\n",
        "\n",
        "def take_photo(filename='photo.jpg', quality=0.8):\n",
        "  js = Javascript('''\n",
        "    async function takePhoto(quality) {\n",
        "      const div = document.createElement('div');\n",
        "      const capture = document.createElement('button');\n",
        "      capture.textContent = 'Capture';\n",
        "      div.appendChild(capture);\n",
        "\n",
        "      const video = document.createElement('video');\n",
        "      video.style.display = 'block';\n",
        "      const stream = await navigator.mediaDevices.getUserMedia({video: true});\n",
        "\n",
        "      document.body.appendChild(div);\n",
        "      div.appendChild(video);\n",
        "      video.srcObject = stream;\n",
        "      await video.play();\n",
        "\n",
        "      // Resize the output to fit the video element.\n",
        "      google.colab.output.setIframeHeight(document.documentElement.scrollHeight, true);\n",
        "\n",
        "      // Wait for Capture to be clicked.\n",
        "      await new Promise((resolve) => capture.onclick = resolve);\n",
        "\n",
        "      const canvas = document.createElement('canvas');\n",
        "      canvas.width = video.videoWidth;\n",
        "      canvas.height = video.videoHeight;\n",
        "      canvas.getContext('2d').drawImage(video, 0, 0);\n",
        "      stream.getVideoTracks()[0].stop();\n",
        "      div.remove();\n",
        "      return canvas.toDataURL('image/jpeg', quality);\n",
        "    }\n",
        "    ''')\n",
        "  display(js)\n",
        "  data = eval_js('takePhoto({})'.format(quality))\n",
        "  binary = b64decode(data.split(',')[1])\n",
        "  with open(filename, 'wb') as f:\n",
        "    f.write(binary)\n",
        "  return filename"
      ],
      "metadata": {
        "id": "DrJk9WfMGFNq"
      },
      "execution_count": 27,
      "outputs": []
    },
    {
      "cell_type": "code",
      "source": [
        "from IPython.display import Image\n",
        "try:\n",
        "  filename = take_photo()\n",
        "  print('Saved to {}'.format(filename))\n",
        "\n",
        "  # Show the image which was just taken.\n",
        "  display(Image(filename))\n",
        "except Exception as err:\n",
        "  # Errors will be thrown if the user does not have a webcam or if they do not\n",
        "  # grant the page permission to access it.\n",
        "  print(str(err))"
      ],
      "metadata": {
        "id": "LEB9NjixROIS"
      },
      "execution_count": null,
      "outputs": []
    },
    {
      "cell_type": "code",
      "execution_count": null,
      "metadata": {
        "id": "byptWyVWDAtv"
      },
      "outputs": [],
      "source": [
        "%pip install kaggle ipywidgets widgetsnbextension"
      ]
    },
    {
      "cell_type": "markdown",
      "metadata": {
        "id": "se7k99nvDQRb"
      },
      "source": [
        "### Скачиваем датасет"
      ]
    },
    {
      "cell_type": "code",
      "execution_count": null,
      "metadata": {
        "id": "_XxtsEMcDST7"
      },
      "outputs": [],
      "source": [
        "import os"
      ]
    },
    {
      "cell_type": "code",
      "execution_count": null,
      "metadata": {
        "id": "cwCHdivmDUYD"
      },
      "outputs": [],
      "source": [
        "os.environ['KAGGLE_USERNAME'] = \"xxx\"\n",
        "os.environ['KAGGLE_KEY'] = \"xxx\"\n",
        "!kaggle datasets download -d watchman/rtsd-dataset"
      ]
    },
    {
      "cell_type": "markdown",
      "metadata": {
        "id": "aONuAbh7D65N"
      },
      "source": [
        "### Распаковываем архив"
      ]
    },
    {
      "cell_type": "code",
      "execution_count": null,
      "metadata": {
        "id": "iw2xAjWpD9XB"
      },
      "outputs": [],
      "source": [
        "import zipfile"
      ]
    },
    {
      "cell_type": "code",
      "execution_count": null,
      "metadata": {
        "id": "6fF2p499EAJn"
      },
      "outputs": [],
      "source": [
        "archive = zipfile.ZipFile('rtsd-dataset.zip', 'r')\n",
        "archive.extractall('.')"
      ]
    },
    {
      "cell_type": "markdown",
      "metadata": {
        "id": "QmWh7HuoEE-z"
      },
      "source": [
        "### Удаляем архив"
      ]
    },
    {
      "cell_type": "code",
      "execution_count": null,
      "metadata": {
        "id": "8Uk9W9dGEAxX"
      },
      "outputs": [],
      "source": [
        "os.remove('rtsd-dataset.zip')"
      ]
    },
    {
      "cell_type": "markdown",
      "metadata": {
        "id": "U4fhFr4cFjBq"
      },
      "source": [
        "### Импортируем библиотеки"
      ]
    },
    {
      "cell_type": "code",
      "execution_count": null,
      "metadata": {
        "id": "BUfoIPX5FhUa"
      },
      "outputs": [],
      "source": [
        "import pandas as pd\n",
        "from tqdm.notebook import tqdm\n",
        "from shutil import copyfile, move\n",
        "import sys\n",
        "import json\n",
        "from ipywidgets import FloatProgress"
      ]
    },
    {
      "cell_type": "code",
      "execution_count": null,
      "metadata": {
        "id": "rT11x2aXFmxR"
      },
      "outputs": [],
      "source": [
        "from JSON2YOLO.general_json2yolo import convert_coco_json\n",
        "sys.path.append('./JSON2YOLO')\n",
        "\n",
        "test_path = 'test_annotation'\n",
        "train_path = 'train_annotation'\n",
        "\n",
        "os.makedirs(train_path, exist_ok=True)\n",
        "os.makedirs(test_path, exist_ok=True)"
      ]
    },
    {
      "cell_type": "code",
      "execution_count": null,
      "metadata": {
        "id": "nbVLGCA6Hor0"
      },
      "outputs": [],
      "source": [
        "move('train_anno.json', os.path.join(train_path, 'train_anno.json'))\n",
        "move('val_anno.json', os.path.join(test_path, 'val_anno.json'))"
      ]
    },
    {
      "cell_type": "code",
      "execution_count": null,
      "metadata": {
        "id": "eK_--KsbHra6"
      },
      "outputs": [],
      "source": [
        "for folder in ['labels', 'images']:\n",
        "    for path in [test_path, train_path]:\n",
        "        os.makedirs(os.path.join(path, folder), exist_ok=True)"
      ]
    },
    {
      "cell_type": "code",
      "execution_count": null,
      "metadata": {
        "id": "XQeOITCaHuAq"
      },
      "outputs": [],
      "source": [
        "convert_coco_json(train_path)\n",
        "for file in tqdm(os.listdir(os.path.join('new_dir/labels/train_anno'))):\n",
        "    move(os.path.join('new_dir/labels/train_anno', file), os.path.join(train_path, 'labels', file))\n",
        "\n",
        "convert_coco_json('./test_annotation/')\n",
        "for file in tqdm(os.listdir(os.path.join('new_dir/labels/val_anno'))):\n",
        "    move(os.path.join('new_dir/labels/val_anno', file), os.path.join(test_path, 'labels', file))"
      ]
    },
    {
      "cell_type": "markdown",
      "metadata": {
        "id": "5D0ratHBI1Lt"
      },
      "source": [
        "### Добавим изображения уже к готовой разметке"
      ]
    },
    {
      "cell_type": "code",
      "execution_count": null,
      "metadata": {
        "id": "G1jYFD8zI_7J"
      },
      "outputs": [],
      "source": [
        "test_labels = os.listdir(os.path.join(test_path, 'labels'))\n",
        "train_labels = os.listdir(os.path.join(train_path, 'labels'))\n",
        "\n",
        "test_labels = set(map(lambda x: x.split('.')[0], test_labels))\n",
        "train_labels = set(map(lambda x: x.split('.')[0], train_labels))"
      ]
    },
    {
      "cell_type": "code",
      "execution_count": null,
      "metadata": {
        "id": "BjSb6Q3KJDBt"
      },
      "outputs": [],
      "source": [
        "images = 'rtsd-frames/rtsd-frames'\n",
        "for file in os.listdir(images):\n",
        "    name = file.split('.')[0]\n",
        "    if name in train_labels:\n",
        "        move(os.path.join(images, file), os.path.join(train_path,'images', file))\n",
        "    if name in test_labels:\n",
        "        move(os.path.join(images, file), os.path.join(test_path,'images', file))"
      ]
    },
    {
      "cell_type": "markdown",
      "metadata": {
        "id": "zOuPrr08JdH6"
      },
      "source": [
        "### Создадим yaml файл"
      ]
    },
    {
      "cell_type": "code",
      "execution_count": null,
      "metadata": {
        "id": "dYaInAPvOhrp"
      },
      "outputs": [],
      "source": [
        "%pip install PyYAML==5.1"
      ]
    },
    {
      "cell_type": "code",
      "execution_count": null,
      "metadata": {
        "id": "TTSkCG2tKTzO"
      },
      "outputs": [],
      "source": [
        "import yaml"
      ]
    },
    {
      "cell_type": "code",
      "execution_count": null,
      "metadata": {
        "id": "2yrW4mDcJ35Q"
      },
      "outputs": [],
      "source": [
        "data = [{\n",
        "    'train': '/content/train_annotation/images',\n",
        "    'val': '/content/test_annotation/images',\n",
        "    'nc': 155,\n",
        "    'names': ['2_1', '1_23', '1_17', '3_24', '8_2_1', '5_20', '5_19_1', '5_16', '3_25',\n",
        "              '6_16', '7_15', '2_2', '2_4', '8_13_1', '4_2_1', '1_20_3', '1_25', '3_4', '8_3_2',\n",
        "              '3_4_1', '4_1_6', '4_2_3', '4_1_1', '1_33', '5_15_5', '3_27', '1_15', '4_1_2_1',\n",
        "              '6_3_1', '8_1_1', '6_7', '5_15_3', '7_3', '1_19', '6_4', '8_1_4', '8_8', '1_16',\n",
        "              '1_11_1', '6_6', '5_15_1', '7_2', '5_15_2', '7_12', '3_18', '5_6', '5_5', '7_4',\n",
        "              '4_1_2', '8_2_2', '7_11', '1_22', '1_27', '2_3_2', '5_15_2_2', '1_8', '3_13',\n",
        "              '2_3', '8_3_3', '2_3_3', '7_7', '1_11', '8_13', '1_12_2', '1_20', '1_12', '3_32',\n",
        "              '2_5', '3_1', '4_8_2', '3_20', '3_2', '2_3_6', '5_22', '5_18', '2_3_5', '7_5',\n",
        "              '8_4_1', '3_14', '1_2', '1_20_2', '4_1_4', '7_6', '8_1_3', '8_3_1', '4_3', '4_1_5',\n",
        "              '8_2_3', '8_2_4', '1_31', '3_10', '4_2_2', '7_1', '3_28', '4_1_3', '5_4', '5_3',\n",
        "              '6_8_2', '3_31', '6_2', '1_21', '3_21', '1_13', '1_14', '2_3_4', '4_8_3', '6_15_2',\n",
        "              '2_6', '3_18_2', '4_1_2_2', '1_7', '3_19', '1_18', '2_7', '8_5_4', '5_15_7', '5_14',\n",
        "              '5_21', '1_1', '6_15_1', '8_6_4', '8_15', '4_5', '3_11', '8_18', '8_4_4', '3_30',\n",
        "              '5_7_1', '5_7_2', '1_5', '3_29', '6_15_3', '5_12', '3_16', '1_30', '5_11', '1_6',\n",
        "              '8_6_2', '6_8_3', '3_12', '3_33', '8_4_3', '5_8', '8_14', '8_17', '3_6', '1_26',\n",
        "              '8_5_2', '6_8_1', '5_17', '1_10', '8_16', '7_18', '7_14', '8_23']\n",
        "}]"
      ]
    },
    {
      "cell_type": "code",
      "execution_count": null,
      "metadata": {
        "id": "9JZM52JPLjWZ"
      },
      "outputs": [],
      "source": [
        "def write_yaml_to_file(py_obj, filename) :\n",
        "    with open(f'{filename}.yaml', 'w+',) as f:\n",
        "        yaml.dump_all(py_obj, f, sort_keys=False)\n",
        "write_yaml_to_file(data, 'trafic_signs')"
      ]
    },
    {
      "cell_type": "markdown",
      "metadata": {
        "id": "6Mrd1dClQzmi"
      },
      "source": [
        "### Устанавливаем библиотеки"
      ]
    },
    {
      "cell_type": "code",
      "execution_count": null,
      "metadata": {
        "id": "dIhDfv-4r70y"
      },
      "outputs": [],
      "source": [
        "%pip install ultralytics"
      ]
    },
    {
      "cell_type": "markdown",
      "metadata": {
        "id": "D5D34PpSSQ6K"
      },
      "source": [
        "### Обучение"
      ]
    },
    {
      "cell_type": "code",
      "execution_count": null,
      "metadata": {
        "id": "64cVz4FeSQID"
      },
      "outputs": [],
      "source": [
        "from ultralytics import YOLO\n",
        "import torch\n",
        "import gc"
      ]
    },
    {
      "cell_type": "code",
      "execution_count": null,
      "metadata": {
        "id": "MEw3i1VCaljE"
      },
      "outputs": [],
      "source": [
        "gc.collect()\n",
        "torch.cuda.empty_cache()"
      ]
    },
    {
      "cell_type": "code",
      "execution_count": null,
      "metadata": {
        "id": "7dFP4an_SXmC"
      },
      "outputs": [],
      "source": [
        "model = YOLO('yolov8s.pt')\n",
        "\n",
        "results = model.train(\n",
        "   data='/content/trafic_signs.yaml',\n",
        "   imgsz=1280,\n",
        "   epochs=5,\n",
        "   batch=6,\n",
        "   device=0,\n",
        "   name='YOLOv8s'\n",
        ")"
      ]
    }
  ],
  "metadata": {
    "accelerator": "GPU",
    "colab": {
      "gpuType": "T4",
      "provenance": []
    },
    "kernelspec": {
      "display_name": "Python 3",
      "name": "python3"
    },
    "language_info": {
      "name": "python"
    }
  },
  "nbformat": 4,
  "nbformat_minor": 0
}